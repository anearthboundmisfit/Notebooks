{
 "cells": [
  {
   "cell_type": "code",
   "execution_count": 4,
   "metadata": {},
   "outputs": [],
   "source": [
    "import math\n",
    "import os\n",
    "import random\n",
    "import re\n",
    "import sys\n",
    "\n",
    "#\n",
    "# Complete the 'plusMinus' function below.\n",
    "#\n",
    "# The function accepts INTEGER_ARRAY arr as parameter.\n",
    "#\n",
    "\n",
    "def plusMinus(arr):\n",
    "    if 0 < n and n <= 100:\n",
    "        if n == len(arr) and n == len([_ for _ in arr if -100 <= _ <= 100]):\n",
    "            pcount, ncount, zcount = 0, 0, 0\n",
    "            for _ in arr:\n",
    "                if _ > 0:\n",
    "                    pcount += 1\n",
    "                elif _ < 0:\n",
    "                    ncount += 1\n",
    "                else:\n",
    "                    zcount += 1\n",
    "            print('{0:.6f}'.format(pcount/n))\n",
    "            print('{0:.6f}'.format(ncount/n))\n",
    "            print('{0:.6f}'.format(zcount/n))\n",
    "\n",
    "if __name__ == '__main__':\n",
    "    n = int(input().strip())\n",
    "\n",
    "    arr = list(map(int, input().rstrip().split()))\n",
    "\n",
    "    plusMinus(arr)\n"
   ]
  }
 ],
 "metadata": {
  "language_info": {
   "name": "python"
  },
  "orig_nbformat": 4
 },
 "nbformat": 4,
 "nbformat_minor": 2
}
