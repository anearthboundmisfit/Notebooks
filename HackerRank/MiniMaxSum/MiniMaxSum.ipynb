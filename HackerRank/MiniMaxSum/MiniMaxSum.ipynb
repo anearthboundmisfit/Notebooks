{
 "cells": [
  {
   "cell_type": "markdown",
   "metadata": {},
   "source": [
    "# Mini-Max Sum\n",
    "\n",
    "[Problem](https://www.hackerrank.com/challenges/one-week-preparation-kit-mini-max-sum/problem)"
   ]
  },
  {
   "cell_type": "markdown",
   "metadata": {},
   "source": [
    "[My submission](https://www.hackerrank.com/challenges/one-week-preparation-kit-mini-max-sum/submissions/code/266448758)"
   ]
  },
  {
   "cell_type": "code",
   "execution_count": null,
   "metadata": {},
   "outputs": [],
   "source": [
    "import math\n",
    "import os\n",
    "import random\n",
    "import re\n",
    "import sys\n",
    "\n",
    "#\n",
    "# Complete the 'miniMaxSum' function below.\n",
    "#\n",
    "# The function accepts INTEGER_ARRAY arr as parameter.\n",
    "#\n",
    "\n",
    "def miniMaxSum(arr):\n",
    "    n = 5\n",
    "    if n == len(arr):\n",
    "        if n == len([_ for _ in arr if 1 <= _ <= 10**9]):\n",
    "            arr.sort()\n",
    "            min = sum(arr[0:4])\n",
    "            max = sum(arr[-4:])\n",
    "            print(min, max)\n",
    "\n",
    "if __name__ == '__main__':\n",
    "\n",
    "    arr = list(map(int, input().rstrip().split()))\n",
    "\n",
    "    miniMaxSum(arr)\n"
   ]
  }
 ],
 "metadata": {
  "interpreter": {
   "hash": "0887a71237cfe71e36532335509db7d6ceec1816431fd0d502dc265ae65b0560"
  },
  "kernelspec": {
   "display_name": "Python 3.10.4 ('python3.10')",
   "language": "python",
   "name": "python3"
  },
  "language_info": {
   "codemirror_mode": {
    "name": "ipython",
    "version": 3
   },
   "file_extension": ".py",
   "mimetype": "text/x-python",
   "name": "python",
   "nbconvert_exporter": "python",
   "pygments_lexer": "ipython3",
   "version": "3.10.4"
  },
  "orig_nbformat": 4
 },
 "nbformat": 4,
 "nbformat_minor": 2
}
