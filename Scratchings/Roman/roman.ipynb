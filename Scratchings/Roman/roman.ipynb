{
 "cells": [
  {
   "cell_type": "markdown",
   "metadata": {},
   "source": [
    "An improvement on something I tried puzzling over earlier today."
   ]
  },
  {
   "cell_type": "code",
   "execution_count": 15,
   "metadata": {},
   "outputs": [
    {
     "name": "stdout",
     "output_type": "stream",
     "text": [
      "roman_to_decimal() = None\n",
      "roman_to_decimal('I') = 1\n",
      "roman_to_decimal('II') = 2\n",
      "roman_to_decimal('III') = 3\n",
      "roman_to_decimal('IV') = 4\n",
      "roman_to_decimal('V') = 5\n",
      "roman_to_decimal('VI') = 6\n",
      "roman_to_decimal('VII') = 7\n",
      "roman_to_decimal('VIII') = 8\n",
      "roman_to_decimal('IX') = 9\n",
      "roman_to_decimal('X') = 10\n",
      "roman_to_decimal('XX') = 20\n",
      "roman_to_decimal('XL') = 40\n",
      "roman_to_decimal('LX') = 60\n",
      "roman_to_decimal('XC') = 90\n",
      "roman_to_decimal('C') = 100\n",
      "roman_to_decimal('CX') = 110\n",
      "roman_to_decimal('MMXXII') = 2022\n"
     ]
    }
   ],
   "source": [
    "def roman_to_decimal(s=''):\n",
    "    f = {'I': 1,   'V': 5,   'X': 10, 'L': 50,\n",
    "         'C': 100, 'D': 500, 'M': 1000}\n",
    "    o = [f[_] for _ in s.strip().upper()]\n",
    "    d = 0 if o else None\n",
    "    for i, n in enumerate(o):\n",
    "        if i and n > o[i - 1]:\n",
    "            d -= o[i - 1] * 2\n",
    "        d += n\n",
    "    return d\n",
    "\n",
    "\n",
    "print(f\"{roman_to_decimal() = }\")\n",
    "print(f\"{roman_to_decimal('I') = }\")\n",
    "print(f\"{roman_to_decimal('II') = }\")\n",
    "print(f\"{roman_to_decimal('III') = }\")\n",
    "print(f\"{roman_to_decimal('IV') = }\")\n",
    "print(f\"{roman_to_decimal('V') = }\")\n",
    "print(f\"{roman_to_decimal('VI') = }\")\n",
    "print(f\"{roman_to_decimal('VII') = }\")\n",
    "print(f\"{roman_to_decimal('VIII') = }\")\n",
    "print(f\"{roman_to_decimal('IX') = }\")\n",
    "print(f\"{roman_to_decimal('X') = }\")\n",
    "print(f\"{roman_to_decimal('XX') = }\")\n",
    "print(f\"{roman_to_decimal('XL') = }\")\n",
    "print(f\"{roman_to_decimal('LX') = }\")\n",
    "print(f\"{roman_to_decimal('XC') = }\")\n",
    "print(f\"{roman_to_decimal('C') = }\")\n",
    "print(f\"{roman_to_decimal('CX') = }\")\n",
    "print(f\"{roman_to_decimal('MMXXII') = }\")\n"
   ]
  }
 ],
 "metadata": {
  "interpreter": {
   "hash": "0887a71237cfe71e36532335509db7d6ceec1816431fd0d502dc265ae65b0560"
  },
  "kernelspec": {
   "display_name": "Python 3.10.4 ('python3.10')",
   "language": "python",
   "name": "python3"
  },
  "language_info": {
   "codemirror_mode": {
    "name": "ipython",
    "version": 3
   },
   "file_extension": ".py",
   "mimetype": "text/x-python",
   "name": "python",
   "nbconvert_exporter": "python",
   "pygments_lexer": "ipython3",
   "version": "3.10.4"
  },
  "orig_nbformat": 4
 },
 "nbformat": 4,
 "nbformat_minor": 2
}
