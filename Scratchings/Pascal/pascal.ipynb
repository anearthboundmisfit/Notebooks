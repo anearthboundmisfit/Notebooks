{
 "cells": [
  {
   "cell_type": "markdown",
   "metadata": {},
   "source": [
    "# A stab at Pascal's triangle"
   ]
  },
  {
   "cell_type": "code",
   "execution_count": 95,
   "metadata": {},
   "outputs": [
    {
     "name": "stdout",
     "output_type": "stream",
     "text": [
      "                      1                      \n",
      "                     1, 1                    \n",
      "                   1, 2, 1                   \n",
      "                  1, 3, 3, 1                 \n",
      "                1, 4, 6, 4, 1                \n",
      "              1, 5, 10, 10, 5, 1             \n",
      "            1, 6, 15, 20, 15, 6, 1           \n",
      "          1, 7, 21, 35, 35, 21, 7, 1         \n",
      "        1, 8, 28, 56, 70, 56, 28, 8, 1       \n",
      "     1, 9, 36, 84, 126, 126, 84, 36, 9, 1    \n",
      "1, 10, 45, 120, 210, 252, 210, 120, 45, 10, 1\n"
     ]
    }
   ],
   "source": [
    "def triangle(n):\n",
    "    rows = [[1], [1, 1]]\n",
    "    if n > 2:\n",
    "        for r in range(2, n):\n",
    "            rows.extend([[1] + ([None] * (r - 1)) + [1]])\n",
    "            for k in range(1, len(rows[r]) - 1):\n",
    "                rows[r][k] = rows[r - 1][k - 1] + rows[r - 1][k]\n",
    "    return rows\n",
    "\n",
    "lines = [', '.join(map(str, _)) for _ in triangle(11)]\n",
    "for i, r in enumerate(lines):\n",
    "    print(r.center(len(lines[len(lines) - 1])))\n"
   ]
  }
 ],
 "metadata": {
  "interpreter": {
   "hash": "0887a71237cfe71e36532335509db7d6ceec1816431fd0d502dc265ae65b0560"
  },
  "kernelspec": {
   "display_name": "Python 3.10.4 ('python3.10')",
   "language": "python",
   "name": "python3"
  },
  "language_info": {
   "codemirror_mode": {
    "name": "ipython",
    "version": 3
   },
   "file_extension": ".py",
   "mimetype": "text/x-python",
   "name": "python",
   "nbconvert_exporter": "python",
   "pygments_lexer": "ipython3",
   "version": "3.10.4"
  },
  "orig_nbformat": 4
 },
 "nbformat": 4,
 "nbformat_minor": 2
}
